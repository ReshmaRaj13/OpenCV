{
 "cells": [
  {
   "cell_type": "code",
   "execution_count": 1,
   "id": "78c3f253",
   "metadata": {},
   "outputs": [],
   "source": [
    "import pyautogui"
   ]
  },
  {
   "cell_type": "code",
   "execution_count": 3,
   "id": "78c9f637",
   "metadata": {},
   "outputs": [],
   "source": [
    "import time\n",
    "time.sleep(2.0)\n",
    "\n",
    "distance = 200\n",
    "while distance > 0:\n",
    "        pyautogui.drag(distance, 0, button='left', duration=0.5)   # move right\n",
    "        distance -= 50\n",
    "        pyautogui.drag(0, distance, button='left', duration=0.5)   # move down\n",
    "        pyautogui.drag(-distance, 0, button='left', duration=0.5)  # move left\n",
    "        distance -= 50\n",
    "        pyautogui.drag(0, -distance, button='left', duration=0.5)  # move up"
   ]
  },
  {
   "cell_type": "code",
   "execution_count": 8,
   "id": "0922bb43",
   "metadata": {},
   "outputs": [],
   "source": [
    "time.sleep(2.0)\n",
    "pyautogui.write('Hello world!', interval=0.25)"
   ]
  },
  {
   "cell_type": "raw",
   "id": "7e9cff90",
   "metadata": {},
   "source": [
    "Hello world!"
   ]
  },
  {
   "cell_type": "code",
   "execution_count": 9,
   "id": "2d2388a4",
   "metadata": {},
   "outputs": [],
   "source": [
    "time.sleep(2.0) \n",
    "pyautogui.press('left') "
   ]
  },
  {
   "cell_type": "code",
   "execution_count": 10,
   "id": "7e1981b9",
   "metadata": {},
   "outputs": [],
   "source": [
    "time.sleep(2.0) \n",
    "with pyautogui.hold('shift'):\n",
    "        pyautogui.press(['left', 'left', 'left'])"
   ]
  },
  {
   "cell_type": "code",
   "execution_count": 11,
   "id": "cf069ad7",
   "metadata": {},
   "outputs": [],
   "source": [
    "time.sleep(2.0) \n",
    "pyautogui.keyDown('shift')  # hold down the shift key\n",
    "pyautogui.press('left')     # press the left arrow key\n",
    "pyautogui.press('left')     # press the left arrow key\n",
    "pyautogui.press('left')     # press the left arrow key\n",
    "pyautogui.keyUp('shift')    # release the shift key"
   ]
  },
  {
   "cell_type": "code",
   "execution_count": 13,
   "id": "f0c70128",
   "metadata": {},
   "outputs": [],
   "source": [
    "import time\n",
    "time.sleep(0.5)\n",
    "hotkey = 'command' if 'mac' in pyautogui.platform.platform() else 'ctrl'\n",
    "pyautogui.hotkey(hotkey, 't')\n",
    "time.sleep(1.0)\n",
    "pyautogui.write('https://pyautogui.readthedocs.io', 0.01)\n",
    "time.sleep(0.1)\n",
    "pyautogui.hotkey(hotkey, 'l')\n",
    "pyautogui.press('enter')"
   ]
  },
  {
   "cell_type": "code",
   "execution_count": 17,
   "id": "ebeeedee",
   "metadata": {},
   "outputs": [],
   "source": [
    "time.sleep(2.0) \n",
    "pyautogui.click(10, 0)\n",
    "time.sleep(5)\n",
    "pyautogui.click(10, 0)"
   ]
  },
  {
   "cell_type": "code",
   "execution_count": null,
   "id": "300c6c3d",
   "metadata": {},
   "outputs": [],
   "source": [
    "cccccccccccccccccccccc"
   ]
  }
 ],
 "metadata": {
  "kernelspec": {
   "display_name": "opencv-env",
   "language": "python",
   "name": "opencv-env"
  },
  "language_info": {
   "codemirror_mode": {
    "name": "ipython",
    "version": 3
   },
   "file_extension": ".py",
   "mimetype": "text/x-python",
   "name": "python",
   "nbconvert_exporter": "python",
   "pygments_lexer": "ipython3",
   "version": "3.11.5"
  }
 },
 "nbformat": 4,
 "nbformat_minor": 5
}
